{
 "cells": [
  {
   "cell_type": "code",
   "execution_count": 1,
   "id": "f4e78dde",
   "metadata": {},
   "outputs": [
    {
     "name": "stderr",
     "output_type": "stream",
     "text": [
      "C:\\Users\\AStA\\anaconda3\\envs\\gym\\lib\\site-packages\\numpy\\_distributor_init.py:30: UserWarning: loaded more than 1 DLL from .libs:\n",
      "C:\\Users\\AStA\\anaconda3\\envs\\gym\\lib\\site-packages\\numpy\\.libs\\libopenblas.EL2C6PLE4ZYW3ECEVIV3OXXGRN2NRFM2.gfortran-win_amd64.dll\n",
      "C:\\Users\\AStA\\anaconda3\\envs\\gym\\lib\\site-packages\\numpy\\.libs\\libopenblas.FB5AE2TYXYH2IJRDKGDGQ3XBKLKTF43H.gfortran-win_amd64.dll\n",
      "C:\\Users\\AStA\\anaconda3\\envs\\gym\\lib\\site-packages\\numpy\\.libs\\libopenblas.WCDJNK7YVMPZQ2ME2ZZHJJRJ3JIKNDB7.gfortran-win_amd64.dll\n",
      "  warnings.warn(\"loaded more than 1 DLL from .libs:\"\n"
     ]
    }
   ],
   "source": [
    "# Boiler plate stuff to start the module\n",
    "import jpype\n",
    "import jpype.imports\n",
    "from jpype.types import *\n",
    "import sys \n",
    "import numpy as np\n",
    "import traceback\n",
    "import random\n",
    "import Client\n",
    "import copy"
   ]
  },
  {
   "cell_type": "code",
   "execution_count": 2,
   "id": "5077507e",
   "metadata": {},
   "outputs": [],
   "source": [
    "# Launch the JVM\n",
    "#jpype.shutdownJVM()\n",
    "#try:\n",
    "#    jpype.startJVM(classpath=['./maze-server-v2019.4.jar'])\n",
    "#except:\n",
    "#    print(\"jvm already running\")"
   ]
  },
  {
   "cell_type": "code",
   "execution_count": 3,
   "id": "22f4292f",
   "metadata": {},
   "outputs": [],
   "source": [
    "# import the Java modules\n",
    "from java.io import IOException\n",
    "from java.net import Socket\n",
    "from java.net import UnknownHostException\n",
    "\n",
    "from javax.net.ssl import SSLSocket\n",
    "from javax.net.ssl import SSLSocketFactory\n",
    "from javax.xml.bind import JAXBException\n",
    "from javax.xml.bind import UnmarshalException\n",
    "\n",
    "from de.fhac.mazenet.server.generated import AwaitMoveMessageData\n",
    "from de.fhac.mazenet.server.generated import Errortype\n",
    "from de.fhac.mazenet.server.generated import MazeCom\n",
    "from de.fhac.mazenet.server.generated import MazeComMessagetype\n",
    "from de.fhac.mazenet.server.generated import MoveMessageData\n",
    "from de.fhac.mazenet.server.generated import BoardData\n",
    "\n",
    "from de.fhac.mazenet.server.networking import MazeComMessageFactory\n",
    "from de.fhac.mazenet.server.networking import XmlInputStream\n",
    "from de.fhac.mazenet.server.networking import XmlOutputStream\n",
    "from de.fhac.mazenet.server.game import Board\n",
    "from de.fhac.mazenet.server.game import Position\n",
    "from de.fhac.mazenet.server.game import Card"
   ]
  },
  {
   "cell_type": "code",
   "execution_count": 4,
   "id": "afca3ff6",
   "metadata": {},
   "outputs": [],
   "source": [
    "HOST = \"127.0.0.1\"\n",
    "PORT = 9888"
   ]
  },
  {
   "cell_type": "code",
   "execution_count": 5,
   "id": "7fb73702",
   "metadata": {},
   "outputs": [],
   "source": [
    "import gym \n",
    "from gym import Env\n",
    "from gym.spaces import Discrete, Box, Dict, Tuple, MultiBinary, MultiDiscrete\n",
    "import numpy as np\n",
    "import random\n",
    "import os\n",
    "from stable_baselines3 import PPO\n",
    "from stable_baselines3.common.vec_env import VecFrameStack\n",
    "from stable_baselines3.common.evaluation import evaluate_policy"
   ]
  },
  {
   "cell_type": "code",
   "execution_count": 6,
   "id": "a1c20ec6",
   "metadata": {},
   "outputs": [],
   "source": [
    "from mss import mss\n",
    "import pydirectinput\n",
    "import cv2\n",
    "import pytesseract\n",
    "import matplotlib.pyplot as plt\n",
    "import time"
   ]
  },
  {
   "cell_type": "code",
   "execution_count": 7,
   "id": "dca6b016",
   "metadata": {},
   "outputs": [],
   "source": [
    "ls_range = np.arange(1,6,2)\n",
    "potentialShiftMoves =  []\n",
    "potentialShiftMovesPos =  []\n",
    "for i in ls_range:\n",
    "    potentialShiftMoves.append((0, i))\n",
    "    potentialShiftMoves.append((6, i))\n",
    "    potentialShiftMoves.append((i, 0))\n",
    "    potentialShiftMoves.append((i, 6))\n",
    "    potentialShiftMovesPos.append(Position(0, i))\n",
    "    potentialShiftMovesPos.append(Position(6, i))\n",
    "    potentialShiftMovesPos.append(Position(i, 0))\n",
    "    potentialShiftMovesPos.append(Position(i, 6))"
   ]
  },
  {
   "cell_type": "code",
   "execution_count": 8,
   "id": "ecf572f7",
   "metadata": {},
   "outputs": [],
   "source": [
    "class MazeEnv(Env):\n",
    "    def __init__(self):\n",
    "        super().__init__()\n",
    "        # Actions we can take, rotate card left, rotate card right, push card, go up, down, left, right, no op\n",
    "        # actions: push card, move, no op\n",
    "        # self.action_space = Discrete(3)\n",
    "        # actions: pick x and y where the next card should be pushed and rotation\n",
    "        # self.action_space = Box(low=np.array([1,1,0]), high=np.array([5,5,3]), dtype=np.int8)\n",
    "        # actions: pick a shiftposition from the lot, the rotation of the card, the x_move and y_move\n",
    "        # self.action_space = Box(low=np.array([0,0]), high=np.array([11,3]), dtype=np.int8)\n",
    "        self.action_space = gym.spaces.MultiDiscrete([12, 4, 7, 7], dtype=np.int8)\n",
    "        #  array\n",
    "        #self.observation_space = Tuple((\n",
    "        #                             Discrete(50),\n",
    "        #                             Discrete(24),\n",
    "        #                             Discrete(2))\n",
    "        #                            )\n",
    "        #self.observation_space = Box(low=0, high=255, shape=(1,800,1100), dtype=np.uint8)\n",
    "        #self.cap = mss()\n",
    "        #self.game_location = {'top':200, 'left':100, 'width':1700, 'height':800}\n",
    "        #self.end_location = {'top':50, 'left':400, 'width':400, 'height':150}\n",
    "        # player position, next treasure position\n",
    "        self.observation_space = Tuple((Box(low=0, high=6, shape=(1,2), dtype=np.uint8),\n",
    "                                       Box(low=0, high=6, shape=(1,2), dtype=np.uint8)\n",
    "                                       )) \n",
    "        self.client = None\n",
    "        self.player_pos = Box(low=0, high=6, shape=(1,2))\n",
    "        self.next_treasure_pos = Box(low=0, high=6, shape=(1,2))\n",
    "        self.is_done = False\n",
    "\n",
    "    def moeglicheOrientierungen(self, rot, card):\n",
    "        card_ = Card(card)\n",
    "        openings = card_.getOpenings()\n",
    "        if(card.getShape() == Card.CardShape.I):\n",
    "            openings.setBottom(not openings.isBottom())\n",
    "            openings.setLeft(not openings.isLeft())\n",
    "            openings.setRight(not openings.isRight())\n",
    "            openings.setTop(not openings.isTop())\n",
    "            return  Card(card_)\n",
    "        else:\n",
    "            if(rot == 0):\n",
    "                return Card(card.getShape(), Card.Orientation.D0, card.getTreasure())\n",
    "            if(rot == 1):\n",
    "                return Card(card.getShape(), Card.Orientation.D90, card.getTreasure())\n",
    "            if(rot == 2):\n",
    "                return Card(card.getShape(), Card.Orientation.D180, card.getTreasure())\n",
    "            if(rot == 3):\n",
    "                return Card(card.getShape(), Card.Orientation.D270, card.getTreasure())\n",
    "        return Card(card.getShape(), Card.Orientation.D0, card.getTreasure())\n",
    "    \n",
    "    def Move(self, awaitMove, action):\n",
    "        reward = 0\n",
    "        boardData = awaitMove.getBoard()\n",
    "        treasure = awaitMove.getTreasureToFindNext()\n",
    "        board = Board(boardData)\n",
    "        playerPosition = board.findPlayer(self.client.getId())\n",
    "        psm = potentialShiftMoves[action[0]]\n",
    "        position = Position(psm[0], psm[1])\n",
    "        \n",
    "        potentialMove = MoveMessageData()\n",
    "        psmp = copy.copy(potentialShiftMovesPos)\n",
    "        print(\"len psmp:\", len(psmp))\n",
    "        print(\"full psmp:\", psmp)\n",
    "        #potentialShiftMoves.append(position)\n",
    "        print(\"forbidden:\", board.getForbidden())\n",
    "        if(position == board.getForbidden()):\n",
    "            print(\"forbidden shift position, random shift position used, reward decreased\")\n",
    "            print(\"forbid pos#:\", position)\n",
    "            reward -= 10\n",
    "            \n",
    "            try:\n",
    "                psmp.remove(position)\n",
    "            except Exception:\n",
    "                print(\"element not in list, skipping\")\n",
    "            print(\"psmp[0]\", psmp[0])\n",
    "            potentialMove.setShiftPosition(psmp[0])\n",
    "        else:\n",
    "            potentialMove.setShiftPosition(position)\n",
    "        \n",
    "        treasurePositionData = board.findTreasure(treasure)\n",
    "        \n",
    "        orientedShiftCard = self.moeglicheOrientierungen(action[1], board.getShiftCard())\n",
    "        \n",
    "        potentialMove.setShiftCard(orientedShiftCard)\n",
    "        potentialMove.setNewPinPos(playerPosition)\n",
    "\n",
    "        #if len(potentialShiftMoves) == 0:\n",
    "        #    print(\"forbidden move, reward decreased\")\n",
    "        #    self.next_treasure_pos = treasurePositionData\n",
    "        #    self.player_pos = playerPosition\n",
    "        #    return potentialMove, -20\n",
    "\n",
    "        boardNext = board.fakeShift(potentialMove)\n",
    "        treasurePositionData = boardNext.findTreasure(treasure)\n",
    "        \n",
    "        new_player_pos = boardNext.findPlayer(self.client.getId())\n",
    "        print(\"find player:\", new_player_pos)\n",
    "        reachablePositions = boardNext.getAllReachablePositions(new_player_pos)\n",
    "        rp = np.array(reachablePositions)\n",
    "        print(\"the number of reachablePositions:\", rp.shape)\n",
    "        #chosen_position = all_moves[action[2]]\n",
    "        chosen_pos_obj = Position(action[2], action[3])\n",
    "        chosen_pos_arr = np.array(action[2], action[3])\n",
    "        print(\"chosenposoibj:\", chosen_pos_obj)\n",
    "        if(treasurePositionData == None):\n",
    "            print(\"no treasure? skipping\")\n",
    "            potentialMove.setNewPinPos(new_player_pos)\n",
    "            self.next_treasure_pos = eval(treasurePositionData.toString())\n",
    "            self.player_pos = eval(new_player_pos.toString())\n",
    "            return potentialMove, reward\n",
    "\n",
    "        #if(chosen_pos_obj == board.getForbidden()):\n",
    "        #    print(\"forbidden move, reward significantly decreased!\")\n",
    "        #    potentialMove.setNewPinPos(new_player_pos)\n",
    "        #    self.next_treasure_pos = treasurePositionData\n",
    "        #    self.player_pos = new_player_pos\n",
    "        #    return potentialMove, -20\n",
    "\n",
    "        if(chosen_pos_obj not in rp):\n",
    "            print(\"cannot reach position, reward decreased\")\n",
    "            potentialMove.setNewPinPos(new_player_pos)\n",
    "            self.next_treasure_pos = eval(treasurePositionData.toString())\n",
    "            self.player_pos = eval(new_player_pos.toString())\n",
    "            return potentialMove, reward - 10\n",
    "        else:\n",
    "            print(\"treasure position data:\", treasurePositionData)\n",
    "            treasurePosition = Position(treasurePositionData)\n",
    "            print(\"treasure pos:\", treasurePosition)\n",
    "\n",
    "            if(chosen_pos_obj == treasurePosition):\n",
    "                print(\"straight to the treasure, reward increased!\")\n",
    "                potentialMove.setNewPinPos(treasurePosition)\n",
    "                self.next_treasure_pos = eval(treasurePositionData.toString())\n",
    "                self.player_pos = eval(treasurePosition.toString())\n",
    "                return potentialMove, reward + 20\n",
    "            else:\n",
    "                print(\"reachable position, but no treasure\")\n",
    "                potentialMove.setNewPinPos(chosen_pos_obj)\n",
    "                self.next_treasure_pos = eval(treasurePositionData.toString())\n",
    "                self.player_pos = eval(chosen_pos_obj.toString())\n",
    "                return potentialMove, reward - 5\n",
    "\n",
    "        print(\"Object not reachable: random move :/\")\n",
    "        potentialMove.setNewPinPos(reachablePositions[0])\n",
    "        self.next_treasure_pos = eval(treasurePositionData.toString())\n",
    "        self.player_pos = eval(reachablePositions[0].toString())\n",
    "        return potentialMove, reward - 10\n",
    "    \n",
    "    def awaitMove(self, receivedMazeCom, action):\n",
    "        awaitMove = receivedMazeCom.getAwaitMoveMessage()\n",
    "        move, reward = self.Move(awaitMove, action)\n",
    "        mazeComToSend = MazeCom()\n",
    "        mazeComToSend.setId(self.client.getId())\n",
    "        mazeComToSend.setMessagetype(MazeComMessagetype.MOVE)\n",
    "        mazeComToSend.setMoveMessage(move)\n",
    "        self.client.out.write(mazeComToSend)\n",
    "        return reward\n",
    "    \n",
    "    def step(self, action):\n",
    "        reward = 0\n",
    "        print(\"ruun\")\n",
    "        try:\n",
    "            receivedMazeCom = self.client.in_.readMazeCom()\n",
    "            if(receivedMazeCom.getMessagetype() == MazeComMessagetype.LOGINREPLY):\n",
    "                newid = receivedMazeCom.getLoginReplyMessage().getNewID()\n",
    "                self.client.setId(newid)\n",
    "            elif(receivedMazeCom.getMessagetype() == MazeComMessagetype.ACCEPT):\n",
    "                print(receivedMazeCom.getAcceptMessage().getErrortypeCode())\n",
    "                reward += 2\n",
    "            elif (receivedMazeCom.getMessagetype() == MazeComMessagetype.DISCONNECT):\n",
    "                print(receivedMazeCom.getDisconnectMessage().getErrortypeCode())\n",
    "                reward -= 10\n",
    "            elif(receivedMazeCom.getMessagetype() == MazeComMessagetype.AWAITMOVE):\n",
    "                reward += self.awaitMove(receivedMazeCom, action)\n",
    "            elif(receivedMazeCom.getMessagetype() == MazeComMessagetype.MOVEINFO):\n",
    "                print(\"in MoveInfo\")\n",
    "            elif(receivedMazeCom.getMessagetype() == MazeComMessagetype.WIN):\n",
    "                print(\"You have won\")\n",
    "                self.is_done = True\n",
    "                reward += 100\n",
    "            else:\n",
    "                print(\"Unknown message type: \" + receivedMazeCom.getMessagetype())\n",
    "        except Exception as e:\n",
    "            print(traceback.format_exc())\n",
    "            if str(type(e)) == \"<java class 'java.net.SocketException'>\":\n",
    "                print(\"socket error, disconnected\")\n",
    "                sys.exit(1)\n",
    "            elif str(type(e)) == \"<java class 'java.io.EOFException'>\":\n",
    "                print(\"end reached, disconnecting\")\n",
    "                sys.exit(1)\n",
    "            print(e)\n",
    "        #############\n",
    "        done = self.get_done() \n",
    "        observation = self.get_observation()\n",
    "        info = {}\n",
    "        return observation, reward, done, info\n",
    "        \n",
    "    def render(self):\n",
    "        pass\n",
    "    \n",
    "    def reset(self):\n",
    "        print(\"reeeset time :]\")\n",
    "        self.is_done = False\n",
    "        #while True:\n",
    "        try:\n",
    "            login = MazeComMessageFactory.createLoginMessage(self.client.name)\n",
    "            self.client.out.write(login)\n",
    "            #break\n",
    "        except:\n",
    "            print(\"failed login :)\")\n",
    "            #self.client = Client.Client(self.client.name, self.client.address, self.client.port, self.client.tls)\n",
    "        return self.get_observation()\n",
    "    \n",
    "    # Closes the game?\n",
    "    def close(self):\n",
    "        pass\n",
    "    \n",
    "    def get_observation(self):\n",
    "        return (self.player_pos, self.next_treasure_pos)\n",
    "    \n",
    "    def get_done(self):\n",
    "        return self.is_done"
   ]
  },
  {
   "cell_type": "code",
   "execution_count": 9,
   "id": "a869957c",
   "metadata": {},
   "outputs": [],
   "source": [
    "from stable_baselines3 import A2C\n",
    "from stable_baselines3.common.evaluation import evaluate_policy"
   ]
  },
  {
   "cell_type": "code",
   "execution_count": 10,
   "id": "9e7d9a9f",
   "metadata": {},
   "outputs": [],
   "source": [
    "menv = MazeEnv()"
   ]
  },
  {
   "cell_type": "code",
   "execution_count": 11,
   "id": "de3e33e5",
   "metadata": {},
   "outputs": [],
   "source": [
    "menv.client = Client.Client('joe', HOST, PORT, False)"
   ]
  },
  {
   "cell_type": "code",
   "execution_count": 12,
   "id": "26b77ed8",
   "metadata": {},
   "outputs": [],
   "source": [
    "from stable_baselines3 import PPO\n",
    "from stable_baselines3.common.evaluation import evaluate_policy\n",
    "\n",
    "import supersuit as ss\n",
    "from ray.tune.registry import register_env\n",
    "from ray.rllib.env.wrappers.pettingzoo_env import ParallelPettingZooEnv\n",
    "from ray import tune"
   ]
  },
  {
   "cell_type": "code",
   "execution_count": 13,
   "id": "da6e439a",
   "metadata": {},
   "outputs": [],
   "source": [
    "def env_creator(args):\n",
    "    env = MazeEnv()\n",
    "    env.client = Client.Client('joe', HOST, PORT, False)\n",
    "    return env"
   ]
  },
  {
   "cell_type": "code",
   "execution_count": 14,
   "id": "511649d6",
   "metadata": {},
   "outputs": [],
   "source": [
    "env_name = \"rl_env_para\"\n",
    "\n",
    "register_env(env_name, lambda config: env_creator(config))\n",
    "\n",
    "test_env = env_creator({})\n",
    "obs_space = test_env.observation_space\n",
    "act_space = test_env.action_space"
   ]
  },
  {
   "cell_type": "code",
   "execution_count": 15,
   "id": "91dc47b4",
   "metadata": {},
   "outputs": [],
   "source": [
    "def gen_policy(i):\n",
    "    config = {\n",
    "        \"gamma\": 0.99,\n",
    "    }\n",
    "    return (None, obs_space, act_space, config)"
   ]
  },
  {
   "cell_type": "code",
   "execution_count": 16,
   "id": "cdcb7adb",
   "metadata": {},
   "outputs": [],
   "source": [
    "policies = {\"policy_0\": gen_policy(0)}\n",
    "policy_ids = list(policies.keys())"
   ]
  },
  {
   "cell_type": "code",
   "execution_count": null,
   "id": "768c52a9",
   "metadata": {},
   "outputs": [
    {
     "name": "stderr",
     "output_type": "stream",
     "text": [
      "2022-11-15 16:40:26,744\tINFO worker.py:1528 -- Started a local Ray instance.\n"
     ]
    }
   ],
   "source": [
    "tune.run(\n",
    "    \"PPO\",\n",
    "    name=\"PPO\",\n",
    "    stop={\"timesteps_total\": 1000},\n",
    "    checkpoint_freq=10,\n",
    "    local_dir=\"./ray_results/\"+env_name,\n",
    "    config={# Environment specific\n",
    "    \"env\": env_name,\n",
    "    # https://github.com/ray-project/ray/issues/10761\n",
    "    #\"no_done_at_end\": True,\n",
    "    # \"soft_horizon\" : True,\n",
    "    #\"num_gpus\": 0,\n",
    "    #\"num_workers\": 1,\n",
    "    #\"num_envs_per_worker\": 1,\n",
    "    #\"compress_observations\": False,\n",
    "    #\"batch_mode\": 'truncate_episodes',\n",
    "    #\"clip_rewards\": False,\n",
    "    #\"vf_clip_param\": 500.0,\n",
    "    #\"entropy_coeff\": 0.01,\n",
    "    # effective batch_size: train_batch_size * num_agents_in_each_environment [5, 10]\n",
    "    # see https://github.com/ray-project/ray/issues/4628\n",
    "    #\"train_batch_size\": 1000,  # 5000\n",
    "    #\"rollout_fragment_length\": 50,  # 100\n",
    "    #\"sgd_minibatch_size\": 100,  # 500\n",
    "    #\"vf_share_layers\": False\n",
    "        },\n",
    ")"
   ]
  },
  {
   "cell_type": "code",
   "execution_count": null,
   "id": "0981edcb",
   "metadata": {},
   "outputs": [],
   "source": [
    "path = 'Training/Logs'\n",
    "model = A2C('MlpPolicy', menv, verbose=1, tensorboard_log=path)"
   ]
  },
  {
   "cell_type": "code",
   "execution_count": null,
   "id": "daf80ffb",
   "metadata": {},
   "outputs": [],
   "source": [
    "model.learn(total_timesteps=100)"
   ]
  },
  {
   "cell_type": "code",
   "execution_count": null,
   "id": "a9c7b82f",
   "metadata": {},
   "outputs": [],
   "source": [
    "a2c_path = \"Training/Saved Models/A2C_100k_Mazenet_Model\"\n",
    "model.save(a2c_path)"
   ]
  },
  {
   "cell_type": "code",
   "execution_count": null,
   "id": "39234ca6",
   "metadata": {},
   "outputs": [],
   "source": [
    "qa"
   ]
  },
  {
   "cell_type": "code",
   "execution_count": null,
   "id": "4ea48fcd",
   "metadata": {},
   "outputs": [],
   "source": [
    "try:\n",
    "    c1 = Client.Client(\"ay\", HOST, PORT, False)\n",
    "    c1.run()\n",
    "except Exception:\n",
    "    print(traceback.format_exc())"
   ]
  },
  {
   "cell_type": "code",
   "execution_count": null,
   "id": "5536aa85",
   "metadata": {},
   "outputs": [],
   "source": [
    "menv = MazeEnv()"
   ]
  },
  {
   "cell_type": "code",
   "execution_count": null,
   "id": "6e67fb83",
   "metadata": {},
   "outputs": [],
   "source": [
    "menv.client = Client.Client('joe', HOST, PORT, False)"
   ]
  },
  {
   "cell_type": "code",
   "execution_count": null,
   "id": "63b6e402",
   "metadata": {},
   "outputs": [],
   "source": [
    "obs = menv.reset()\n",
    "done = False  \n",
    "total_reward   = 0\n",
    "while not done:\n",
    "    print(menv.action_space.sample())\n",
    "    obs, reward,  done, info =  menv.step(menv.action_space.sample())\n",
    "    total_reward  += reward\n",
    "print('Total Reward for episode {} is {}'.format(episode, total_reward))"
   ]
  },
  {
   "cell_type": "code",
   "execution_count": null,
   "id": "ce89cb39",
   "metadata": {},
   "outputs": [],
   "source": [
    "qa"
   ]
  },
  {
   "cell_type": "code",
   "execution_count": null,
   "id": "c245ceb6",
   "metadata": {},
   "outputs": [],
   "source": [
    "from stable_baselines3.common.callbacks import BaseCallback\n",
    "from stable_baselines3.common import env_checker"
   ]
  },
  {
   "cell_type": "code",
   "execution_count": null,
   "id": "e7f43f8c",
   "metadata": {},
   "outputs": [],
   "source": [
    "menv = MazeEnv()"
   ]
  },
  {
   "cell_type": "code",
   "execution_count": null,
   "id": "efa1991a",
   "metadata": {},
   "outputs": [],
   "source": [
    "menv.client = Client('joe', HOST, PORT, False)"
   ]
  },
  {
   "cell_type": "code",
   "execution_count": null,
   "id": "43b47b33",
   "metadata": {},
   "outputs": [],
   "source": [
    "#env_checker.check_env(menv)"
   ]
  },
  {
   "cell_type": "code",
   "execution_count": null,
   "id": "1b691be4",
   "metadata": {},
   "outputs": [],
   "source": [
    "class TrainAndLoggingCallback(BaseCallback):\n",
    "\n",
    "    def __init__(self, check_freq, save_path, verbose=1):\n",
    "        super(TrainAndLoggingCallback, self).__init__(verbose)\n",
    "        self.check_freq = check_freq\n",
    "        self.save_path = save_path\n",
    "\n",
    "    def _init_callback(self):\n",
    "        if self.save_path is not None:\n",
    "            os.makedirs(self.save_path, exist_ok=True)\n",
    "\n",
    "    def _on_step(self):\n",
    "        if self.n_calls % self.check_freq == 0:\n",
    "            model_path = os.path.join(self.save_path, 'best_model_{}'.format(self.n_calls))\n",
    "            self.model.save(model_path)\n",
    "\n",
    "        return True"
   ]
  },
  {
   "cell_type": "code",
   "execution_count": null,
   "id": "f68a0ab1",
   "metadata": {},
   "outputs": [],
   "source": [
    "CHECKPOINT_DIR = './train/'\n",
    "LOG_DIR = './logs/'"
   ]
  },
  {
   "cell_type": "code",
   "execution_count": null,
   "id": "661bafc6",
   "metadata": {},
   "outputs": [],
   "source": [
    "callback = TrainAndLoggingCallback(check_freq=1000, save_path=CHECKPOINT_DIR)"
   ]
  },
  {
   "cell_type": "code",
   "execution_count": null,
   "id": "69f496b5",
   "metadata": {},
   "outputs": [],
   "source": [
    "\n",
    "c1 = Client('joe2', HOST, PORT, False)\n",
    "c1.login()\n",
    "\n",
    "c = Client('joe', HOST, PORT, False)\n",
    "c.login()\n",
    "\n",
    "c_list = [c, c1]\n",
    "\n",
    "for agent in c_list:\n",
    "    agent.play()\n",
    "    time.sleep(1)\n"
   ]
  },
  {
   "cell_type": "code",
   "execution_count": null,
   "id": "0cbeaaa3",
   "metadata": {},
   "outputs": [],
   "source": [
    "d"
   ]
  },
  {
   "cell_type": "code",
   "execution_count": null,
   "id": "8051ce17",
   "metadata": {},
   "outputs": [],
   "source": [
    "x"
   ]
  },
  {
   "cell_type": "code",
   "execution_count": null,
   "id": "5af2ab59",
   "metadata": {},
   "outputs": [],
   "source": [
    "xxc"
   ]
  }
 ],
 "metadata": {
  "kernelspec": {
   "display_name": "Python 3 (ipykernel)",
   "language": "python",
   "name": "python3"
  },
  "language_info": {
   "codemirror_mode": {
    "name": "ipython",
    "version": 3
   },
   "file_extension": ".py",
   "mimetype": "text/x-python",
   "name": "python",
   "nbconvert_exporter": "python",
   "pygments_lexer": "ipython3",
   "version": "3.9.15"
  },
  "vscode": {
   "interpreter": {
    "hash": "916dbcbb3f70747c44a77c7bcd40155683ae19c65e1c03b4aa3499c5328201f1"
   }
  }
 },
 "nbformat": 4,
 "nbformat_minor": 5
}
